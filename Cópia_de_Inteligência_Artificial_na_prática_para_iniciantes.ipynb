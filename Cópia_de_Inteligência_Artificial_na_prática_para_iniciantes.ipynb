{
  "nbformat": 4,
  "nbformat_minor": 0,
  "metadata": {
    "colab": {
      "name": "Cópia de Inteligência Artificial na prática para iniciantes.ipynb",
      "provenance": [],
      "collapsed_sections": [],
      "include_colab_link": true
    },
    "kernelspec": {
      "name": "python3",
      "display_name": "Python 3"
    },
    "language_info": {
      "name": "python"
    }
  },
  "cells": [
    {
      "cell_type": "markdown",
      "metadata": {
        "id": "view-in-github",
        "colab_type": "text"
      },
      "source": [
        "<a href=\"https://colab.research.google.com/github/arisimoes/jogodamemoria/blob/master/C%C3%B3pia_de_Intelig%C3%AAncia_Artificial_na_pr%C3%A1tica_para_iniciantes.ipynb\" target=\"_parent\"><img src=\"https://colab.research.google.com/assets/colab-badge.svg\" alt=\"Open In Colab\"/></a>"
      ]
    },
    {
      "cell_type": "markdown",
      "metadata": {
        "id": "qrhyB4uWNwvt"
      },
      "source": [
        "# Etapa 1 - Entendimento do Problema \n",
        "\n",
        "## Melhorar a conversão de vendas a partir da análise de campanhas realizadas no Facebook. "
      ]
    },
    {
      "cell_type": "markdown",
      "metadata": {
        "id": "l5qDGQ3eN13Z"
      },
      "source": [
        "# Etapa 2: Coleta de Dados\n",
        "\n",
        "#### Você pode baixar esse conjunto de dados no site: https://www.kaggle.com/loveall/clicks-conversion-tracking"
      ]
    },
    {
      "cell_type": "markdown",
      "metadata": {
        "id": "mmftZH0VN45D"
      },
      "source": [
        "# Etapa 3: Análise, Interpretação e Visualização dos Dados\n"
      ]
    },
    {
      "cell_type": "markdown",
      "metadata": {
        "id": "OpnFSbnQN7Xh"
      },
      "source": [
        "#### Importando as bibliotecas"
      ]
    },
    {
      "cell_type": "code",
      "metadata": {
        "id": "qgqyrshnNzES"
      },
      "source": [
        "#Manipulação dos dados\n",
        "import pandas as pd\n",
        "#Visualização\n",
        "\n",
        "#Machine Learning"
      ],
      "execution_count": 4,
      "outputs": []
    },
    {
      "cell_type": "markdown",
      "metadata": {
        "id": "rlsHyd4YOHn-"
      },
      "source": [
        "#### Carregando os dados"
      ]
    },
    {
      "cell_type": "code",
      "metadata": {
        "id": "8cb0OOJHOIOz"
      },
      "source": [
        "df = pd.read_csv(\"KAG_conversion_data.csv\")"
      ],
      "execution_count": 5,
      "outputs": []
    },
    {
      "cell_type": "code",
      "metadata": {
        "colab": {
          "base_uri": "https://localhost:8080/"
        },
        "id": "WaSou7WeNt_l",
        "outputId": "af4a9945-991d-4f9f-91a8-3b4b521093ed"
      },
      "source": [
        "type(df)"
      ],
      "execution_count": 6,
      "outputs": [
        {
          "output_type": "execute_result",
          "data": {
            "text/plain": [
              "pandas.core.frame.DataFrame"
            ]
          },
          "metadata": {
            "tags": []
          },
          "execution_count": 6
        }
      ]
    },
    {
      "cell_type": "markdown",
      "metadata": {
        "id": "eyUXcKq1OLJL"
      },
      "source": [
        "#### Primeira Inspeção"
      ]
    },
    {
      "cell_type": "code",
      "metadata": {
        "id": "iP7NFHG9OQ66",
        "colab": {
          "base_uri": "https://localhost:8080/",
          "height": 307
        },
        "outputId": "ec156110-b7e4-4443-e049-9f15cd8358da"
      },
      "source": [
        "df.head() #lista por default as 5 primeiras linhas"
      ],
      "execution_count": 9,
      "outputs": [
        {
          "output_type": "execute_result",
          "data": {
            "text/html": [
              "<div>\n",
              "<style scoped>\n",
              "    .dataframe tbody tr th:only-of-type {\n",
              "        vertical-align: middle;\n",
              "    }\n",
              "\n",
              "    .dataframe tbody tr th {\n",
              "        vertical-align: top;\n",
              "    }\n",
              "\n",
              "    .dataframe thead th {\n",
              "        text-align: right;\n",
              "    }\n",
              "</style>\n",
              "<table border=\"1\" class=\"dataframe\">\n",
              "  <thead>\n",
              "    <tr style=\"text-align: right;\">\n",
              "      <th></th>\n",
              "      <th>ad_id</th>\n",
              "      <th>xyz_campaign_id</th>\n",
              "      <th>fb_campaign_id</th>\n",
              "      <th>age</th>\n",
              "      <th>gender</th>\n",
              "      <th>interest</th>\n",
              "      <th>Impressions</th>\n",
              "      <th>Clicks</th>\n",
              "      <th>Spent</th>\n",
              "      <th>Total_Conversion</th>\n",
              "      <th>Approved_Conversion</th>\n",
              "    </tr>\n",
              "  </thead>\n",
              "  <tbody>\n",
              "    <tr>\n",
              "      <th>0</th>\n",
              "      <td>708746</td>\n",
              "      <td>916</td>\n",
              "      <td>103916</td>\n",
              "      <td>30-34</td>\n",
              "      <td>M</td>\n",
              "      <td>15</td>\n",
              "      <td>7350</td>\n",
              "      <td>1</td>\n",
              "      <td>1.43</td>\n",
              "      <td>2</td>\n",
              "      <td>1</td>\n",
              "    </tr>\n",
              "    <tr>\n",
              "      <th>1</th>\n",
              "      <td>708749</td>\n",
              "      <td>916</td>\n",
              "      <td>103917</td>\n",
              "      <td>30-34</td>\n",
              "      <td>M</td>\n",
              "      <td>16</td>\n",
              "      <td>17861</td>\n",
              "      <td>2</td>\n",
              "      <td>1.82</td>\n",
              "      <td>2</td>\n",
              "      <td>0</td>\n",
              "    </tr>\n",
              "    <tr>\n",
              "      <th>2</th>\n",
              "      <td>708771</td>\n",
              "      <td>916</td>\n",
              "      <td>103920</td>\n",
              "      <td>30-34</td>\n",
              "      <td>M</td>\n",
              "      <td>20</td>\n",
              "      <td>693</td>\n",
              "      <td>0</td>\n",
              "      <td>0.00</td>\n",
              "      <td>1</td>\n",
              "      <td>0</td>\n",
              "    </tr>\n",
              "    <tr>\n",
              "      <th>3</th>\n",
              "      <td>708815</td>\n",
              "      <td>916</td>\n",
              "      <td>103928</td>\n",
              "      <td>30-34</td>\n",
              "      <td>M</td>\n",
              "      <td>28</td>\n",
              "      <td>4259</td>\n",
              "      <td>1</td>\n",
              "      <td>1.25</td>\n",
              "      <td>1</td>\n",
              "      <td>0</td>\n",
              "    </tr>\n",
              "    <tr>\n",
              "      <th>4</th>\n",
              "      <td>708818</td>\n",
              "      <td>916</td>\n",
              "      <td>103928</td>\n",
              "      <td>30-34</td>\n",
              "      <td>M</td>\n",
              "      <td>28</td>\n",
              "      <td>4133</td>\n",
              "      <td>1</td>\n",
              "      <td>1.29</td>\n",
              "      <td>1</td>\n",
              "      <td>1</td>\n",
              "    </tr>\n",
              "  </tbody>\n",
              "</table>\n",
              "</div>"
            ],
            "text/plain": [
              "    ad_id  xyz_campaign_id  ...  Total_Conversion Approved_Conversion\n",
              "0  708746              916  ...                 2                   1\n",
              "1  708749              916  ...                 2                   0\n",
              "2  708771              916  ...                 1                   0\n",
              "3  708815              916  ...                 1                   0\n",
              "4  708818              916  ...                 1                   1\n",
              "\n",
              "[5 rows x 11 columns]"
            ]
          },
          "metadata": {
            "tags": []
          },
          "execution_count": 9
        }
      ]
    },
    {
      "cell_type": "code",
      "metadata": {
        "colab": {
          "base_uri": "https://localhost:8080/",
          "height": 307
        },
        "id": "L2wDn8WHTgzE",
        "outputId": "f544aab7-5f10-4bb3-baf4-cd12cb3d34a9"
      },
      "source": [
        "df.tail() #lista por default as 5 ultimas linhas"
      ],
      "execution_count": 10,
      "outputs": [
        {
          "output_type": "execute_result",
          "data": {
            "text/html": [
              "<div>\n",
              "<style scoped>\n",
              "    .dataframe tbody tr th:only-of-type {\n",
              "        vertical-align: middle;\n",
              "    }\n",
              "\n",
              "    .dataframe tbody tr th {\n",
              "        vertical-align: top;\n",
              "    }\n",
              "\n",
              "    .dataframe thead th {\n",
              "        text-align: right;\n",
              "    }\n",
              "</style>\n",
              "<table border=\"1\" class=\"dataframe\">\n",
              "  <thead>\n",
              "    <tr style=\"text-align: right;\">\n",
              "      <th></th>\n",
              "      <th>ad_id</th>\n",
              "      <th>xyz_campaign_id</th>\n",
              "      <th>fb_campaign_id</th>\n",
              "      <th>age</th>\n",
              "      <th>gender</th>\n",
              "      <th>interest</th>\n",
              "      <th>Impressions</th>\n",
              "      <th>Clicks</th>\n",
              "      <th>Spent</th>\n",
              "      <th>Total_Conversion</th>\n",
              "      <th>Approved_Conversion</th>\n",
              "    </tr>\n",
              "  </thead>\n",
              "  <tbody>\n",
              "    <tr>\n",
              "      <th>1138</th>\n",
              "      <td>1314410</td>\n",
              "      <td>1178</td>\n",
              "      <td>179977</td>\n",
              "      <td>45-49</td>\n",
              "      <td>F</td>\n",
              "      <td>109</td>\n",
              "      <td>1129773</td>\n",
              "      <td>252</td>\n",
              "      <td>358.189997</td>\n",
              "      <td>13</td>\n",
              "      <td>2</td>\n",
              "    </tr>\n",
              "    <tr>\n",
              "      <th>1139</th>\n",
              "      <td>1314411</td>\n",
              "      <td>1178</td>\n",
              "      <td>179978</td>\n",
              "      <td>45-49</td>\n",
              "      <td>F</td>\n",
              "      <td>110</td>\n",
              "      <td>637549</td>\n",
              "      <td>120</td>\n",
              "      <td>173.880003</td>\n",
              "      <td>3</td>\n",
              "      <td>0</td>\n",
              "    </tr>\n",
              "    <tr>\n",
              "      <th>1140</th>\n",
              "      <td>1314412</td>\n",
              "      <td>1178</td>\n",
              "      <td>179979</td>\n",
              "      <td>45-49</td>\n",
              "      <td>F</td>\n",
              "      <td>111</td>\n",
              "      <td>151531</td>\n",
              "      <td>28</td>\n",
              "      <td>40.289999</td>\n",
              "      <td>2</td>\n",
              "      <td>0</td>\n",
              "    </tr>\n",
              "    <tr>\n",
              "      <th>1141</th>\n",
              "      <td>1314414</td>\n",
              "      <td>1178</td>\n",
              "      <td>179981</td>\n",
              "      <td>45-49</td>\n",
              "      <td>F</td>\n",
              "      <td>113</td>\n",
              "      <td>790253</td>\n",
              "      <td>135</td>\n",
              "      <td>198.710000</td>\n",
              "      <td>8</td>\n",
              "      <td>2</td>\n",
              "    </tr>\n",
              "    <tr>\n",
              "      <th>1142</th>\n",
              "      <td>1314415</td>\n",
              "      <td>1178</td>\n",
              "      <td>179982</td>\n",
              "      <td>45-49</td>\n",
              "      <td>F</td>\n",
              "      <td>114</td>\n",
              "      <td>513161</td>\n",
              "      <td>114</td>\n",
              "      <td>165.609999</td>\n",
              "      <td>5</td>\n",
              "      <td>2</td>\n",
              "    </tr>\n",
              "  </tbody>\n",
              "</table>\n",
              "</div>"
            ],
            "text/plain": [
              "        ad_id  xyz_campaign_id  ...  Total_Conversion Approved_Conversion\n",
              "1138  1314410             1178  ...                13                   2\n",
              "1139  1314411             1178  ...                 3                   0\n",
              "1140  1314412             1178  ...                 2                   0\n",
              "1141  1314414             1178  ...                 8                   2\n",
              "1142  1314415             1178  ...                 5                   2\n",
              "\n",
              "[5 rows x 11 columns]"
            ]
          },
          "metadata": {
            "tags": []
          },
          "execution_count": 10
        }
      ]
    },
    {
      "cell_type": "code",
      "metadata": {
        "colab": {
          "base_uri": "https://localhost:8080/"
        },
        "id": "eA4JvTlyT50h",
        "outputId": "c6ba119f-1a6e-4281-ce8f-4b08852503ff"
      },
      "source": [
        "df.columns #lista as colunas "
      ],
      "execution_count": 11,
      "outputs": [
        {
          "output_type": "execute_result",
          "data": {
            "text/plain": [
              "Index(['ad_id', 'xyz_campaign_id', 'fb_campaign_id', 'age', 'gender',\n",
              "       'interest', 'Impressions', 'Clicks', 'Spent', 'Total_Conversion',\n",
              "       'Approved_Conversion'],\n",
              "      dtype='object')"
            ]
          },
          "metadata": {
            "tags": []
          },
          "execution_count": 11
        }
      ]
    },
    {
      "cell_type": "code",
      "metadata": {
        "colab": {
          "base_uri": "https://localhost:8080/"
        },
        "id": "n_3w0WfJUFpR",
        "outputId": "29ee4854-fa17-4e4f-d287-44cff7eb632c"
      },
      "source": [
        "df.index #mostra total de itens"
      ],
      "execution_count": 12,
      "outputs": [
        {
          "output_type": "execute_result",
          "data": {
            "text/plain": [
              "RangeIndex(start=0, stop=1143, step=1)"
            ]
          },
          "metadata": {
            "tags": []
          },
          "execution_count": 12
        }
      ]
    },
    {
      "cell_type": "code",
      "metadata": {
        "colab": {
          "base_uri": "https://localhost:8080/"
        },
        "id": "sZ0K13LcUaqR",
        "outputId": "766ae3da-ba85-4144-ff33-e70a5f350896"
      },
      "source": [
        "df.shape #mostra a tupla linhas e colunas"
      ],
      "execution_count": 13,
      "outputs": [
        {
          "output_type": "execute_result",
          "data": {
            "text/plain": [
              "(1143, 11)"
            ]
          },
          "metadata": {
            "tags": []
          },
          "execution_count": 13
        }
      ]
    },
    {
      "cell_type": "code",
      "metadata": {
        "id": "CPBPShA2UjuA"
      },
      "source": [
        "linhas, colunas = df.shape"
      ],
      "execution_count": 14,
      "outputs": []
    },
    {
      "cell_type": "code",
      "metadata": {
        "colab": {
          "base_uri": "https://localhost:8080/"
        },
        "id": "HSpX6V-aUqEI",
        "outputId": "5f320601-c61d-46d0-a92b-ec35d7c984fa"
      },
      "source": [
        "print (f\"O numeros de linhas {linhas}\")"
      ],
      "execution_count": 15,
      "outputs": [
        {
          "output_type": "stream",
          "text": [
            "O numeros de linhas 1143\n"
          ],
          "name": "stdout"
        }
      ]
    },
    {
      "cell_type": "code",
      "metadata": {
        "colab": {
          "base_uri": "https://localhost:8080/"
        },
        "id": "LIzx57XHVDHn",
        "outputId": "22597216-f0bf-4a66-a13d-e5f090037af3"
      },
      "source": [
        "df[\"Clicks\"]"
      ],
      "execution_count": 18,
      "outputs": [
        {
          "output_type": "execute_result",
          "data": {
            "text/plain": [
              "0         1\n",
              "1         2\n",
              "2         0\n",
              "3         1\n",
              "4         1\n",
              "       ... \n",
              "1138    252\n",
              "1139    120\n",
              "1140     28\n",
              "1141    135\n",
              "1142    114\n",
              "Name: Clicks, Length: 1143, dtype: int64"
            ]
          },
          "metadata": {
            "tags": []
          },
          "execution_count": 18
        }
      ]
    },
    {
      "cell_type": "code",
      "metadata": {
        "colab": {
          "base_uri": "https://localhost:8080/"
        },
        "id": "RyGFbCwfVZxH",
        "outputId": "e08c08a0-7fbf-44e3-eb2d-f1a6e700281b"
      },
      "source": [
        "df.info()"
      ],
      "execution_count": 19,
      "outputs": [
        {
          "output_type": "stream",
          "text": [
            "<class 'pandas.core.frame.DataFrame'>\n",
            "RangeIndex: 1143 entries, 0 to 1142\n",
            "Data columns (total 11 columns):\n",
            " #   Column               Non-Null Count  Dtype  \n",
            "---  ------               --------------  -----  \n",
            " 0   ad_id                1143 non-null   int64  \n",
            " 1   xyz_campaign_id      1143 non-null   int64  \n",
            " 2   fb_campaign_id       1143 non-null   int64  \n",
            " 3   age                  1143 non-null   object \n",
            " 4   gender               1143 non-null   object \n",
            " 5   interest             1143 non-null   int64  \n",
            " 6   Impressions          1143 non-null   int64  \n",
            " 7   Clicks               1143 non-null   int64  \n",
            " 8   Spent                1143 non-null   float64\n",
            " 9   Total_Conversion     1143 non-null   int64  \n",
            " 10  Approved_Conversion  1143 non-null   int64  \n",
            "dtypes: float64(1), int64(8), object(2)\n",
            "memory usage: 98.4+ KB\n"
          ],
          "name": "stdout"
        }
      ]
    },
    {
      "cell_type": "markdown",
      "metadata": {
        "id": "1QPqlfrrOfsX"
      },
      "source": [
        "#### Dicionário dos dados\n",
        "\n",
        "\n",
        "\n",
        "1.   ad_id - ID único para cada anúncio\n",
        "2.   xyzcampaignid - ID associado a cada campanha publicitária da empresa XYZ\n",
        "3.   fbcampaignid - ID associado a como o Facebook rastreia cada campanha.\n",
        "4.   age - idade da pessoa a quem o anúncio é mostrado.\n",
        "5.   gender - sexo da pessoa que deseja que o anúncio seja mostrado\n",
        "6.   interest - código que especifica a categoria à qual pertence o interesse da pessoa (os interesses são mencionados no perfil público da pessoa no Facebook)\n",
        "7.   Impression - o número de vezes que o anúncio foi mostrado.\n",
        "8.   Clicks - número de cliques nesse anúncio.\n",
        "9.   Spent - Valor pago pela empresa xyz ao Facebook, para exibir aquele anúncio.\n",
        "10.  Total conversion - Número total de pessoas que fizeram perguntas sobre o produto depois de ver o anúncio.\n",
        "11.  Approved conversion - Número total de pessoas que compraram o produto depois de ver o anúncio."
      ]
    },
    {
      "cell_type": "markdown",
      "metadata": {
        "id": "6HmKg2RvOuZX"
      },
      "source": [
        "#### Renomeando as colunas"
      ]
    },
    {
      "cell_type": "code",
      "metadata": {
        "id": "YyEDPv_SOgA8"
      },
      "source": [
        ""
      ],
      "execution_count": null,
      "outputs": []
    },
    {
      "cell_type": "markdown",
      "metadata": {
        "id": "uWV2f2AZQLZ8"
      },
      "source": [
        "#### Informações Estatísticas"
      ]
    },
    {
      "cell_type": "markdown",
      "metadata": {
        "id": "8T0Tri7pOwx_"
      },
      "source": [
        "#### Dados Faltantes"
      ]
    },
    {
      "cell_type": "code",
      "metadata": {
        "id": "eFpmkk83PO14"
      },
      "source": [
        ""
      ],
      "execution_count": null,
      "outputs": []
    },
    {
      "cell_type": "markdown",
      "metadata": {
        "id": "tDcpwEQRPPAl"
      },
      "source": [
        "#### Outliers"
      ]
    },
    {
      "cell_type": "code",
      "metadata": {
        "id": "4cJv68f7PSb-"
      },
      "source": [
        ""
      ],
      "execution_count": null,
      "outputs": []
    },
    {
      "cell_type": "markdown",
      "metadata": {
        "id": "ZMxlYi70S_Lh"
      },
      "source": [
        "#### Duplicatas"
      ]
    },
    {
      "cell_type": "code",
      "metadata": {
        "id": "A4Bnxy6dS_bu"
      },
      "source": [
        ""
      ],
      "execution_count": null,
      "outputs": []
    },
    {
      "cell_type": "markdown",
      "metadata": {
        "id": "FfEVRk_VTAER"
      },
      "source": [
        "#### Matriz de Correlação "
      ]
    },
    {
      "cell_type": "code",
      "metadata": {
        "id": "oWB5FOcOTCMG"
      },
      "source": [
        ""
      ],
      "execution_count": null,
      "outputs": []
    },
    {
      "cell_type": "markdown",
      "metadata": {
        "id": "BEQSgq1pdU_R"
      },
      "source": [
        "\"numero_exibicoes\" e \"conversao\" estão mais correlacionados com \"compras\" do que \"cliques_no_anuncio\" e \"valor_pago_anuncio\"."
      ]
    },
    {
      "cell_type": "markdown",
      "metadata": {
        "id": "lbrwtSzwTLLD"
      },
      "source": [
        "#### Avaliando as Features (Colunas)"
      ]
    },
    {
      "cell_type": "markdown",
      "metadata": {
        "id": "lJ7HSyP4dZPx"
      },
      "source": [
        "##### id_campanha - ID associado a cada campanha publicitária da empresa XYZ"
      ]
    },
    {
      "cell_type": "code",
      "metadata": {
        "id": "J5uZwxOoTLZ3"
      },
      "source": [
        ""
      ],
      "execution_count": null,
      "outputs": []
    },
    {
      "cell_type": "markdown",
      "metadata": {
        "id": "Og9ADj9jdlKF"
      },
      "source": [
        "##### compras - Número total de pessoas que compraram o produto depois de ver o anúncio."
      ]
    },
    {
      "cell_type": "code",
      "metadata": {
        "id": "VJLC1DeVdlZZ"
      },
      "source": [
        ""
      ],
      "execution_count": null,
      "outputs": []
    },
    {
      "cell_type": "markdown",
      "metadata": {
        "id": "jun7fzyDdoFy"
      },
      "source": [
        "##### idade - idade da pessoa a quem o anúncio é mostrado."
      ]
    },
    {
      "cell_type": "code",
      "metadata": {
        "id": "FXmgXuemdoWg"
      },
      "source": [
        ""
      ],
      "execution_count": null,
      "outputs": []
    },
    {
      "cell_type": "markdown",
      "metadata": {
        "id": "AXTfEglzdq5i"
      },
      "source": [
        "##### gênero - sexo da pessoa que deseja que o anúncio seja mostrado"
      ]
    },
    {
      "cell_type": "code",
      "metadata": {
        "id": "17eYtR0jdrI5"
      },
      "source": [
        ""
      ],
      "execution_count": null,
      "outputs": []
    },
    {
      "cell_type": "markdown",
      "metadata": {
        "id": "G2_S0p27ds7i"
      },
      "source": [
        "#### interesse - código que especifica a categoria à qual pertence o interesse da pessoa (os interesses são mencionados no perfil público da pessoa no Facebook)"
      ]
    },
    {
      "cell_type": "code",
      "metadata": {
        "id": "m6OFkZMgdtHB"
      },
      "source": [
        ""
      ],
      "execution_count": null,
      "outputs": []
    },
    {
      "cell_type": "markdown",
      "metadata": {
        "id": "75MTUOnOdxNX"
      },
      "source": [
        "#### valor_pago_anuncio - Valor pago pela empresa xyz ao Facebook, para exibir aquele anúncio."
      ]
    },
    {
      "cell_type": "code",
      "metadata": {
        "id": "V0MthylTdxbS"
      },
      "source": [
        ""
      ],
      "execution_count": null,
      "outputs": []
    },
    {
      "cell_type": "markdown",
      "metadata": {
        "id": "N6a5AVM9dzpp"
      },
      "source": [
        "#### numero_exibicoes - o número de vezes que o anúncio foi mostrado."
      ]
    },
    {
      "cell_type": "code",
      "metadata": {
        "id": "A2Mtu-04dz1C"
      },
      "source": [
        ""
      ],
      "execution_count": null,
      "outputs": []
    },
    {
      "cell_type": "markdown",
      "metadata": {
        "id": "WQImiuLSd4ja"
      },
      "source": [
        "#### Pessoas que compraram (por idade/gênero)"
      ]
    },
    {
      "cell_type": "code",
      "metadata": {
        "id": "j3pCIj1Od7nz"
      },
      "source": [
        ""
      ],
      "execution_count": null,
      "outputs": []
    },
    {
      "cell_type": "markdown",
      "metadata": {
        "id": "PW5Fpwa6d--B"
      },
      "source": [
        "# Etapa 4: Modelagem/Machine Learning\n"
      ]
    },
    {
      "cell_type": "code",
      "metadata": {
        "id": "Ns1kq3tcd_Mz"
      },
      "source": [
        ""
      ],
      "execution_count": null,
      "outputs": []
    },
    {
      "cell_type": "markdown",
      "metadata": {
        "id": "k7frHBe3eAfH"
      },
      "source": [
        "# Etapa 5: Avaliando o Modelo\n"
      ]
    },
    {
      "cell_type": "code",
      "metadata": {
        "id": "17ml7Y5ieCZs"
      },
      "source": [
        ""
      ],
      "execution_count": null,
      "outputs": []
    }
  ]
}